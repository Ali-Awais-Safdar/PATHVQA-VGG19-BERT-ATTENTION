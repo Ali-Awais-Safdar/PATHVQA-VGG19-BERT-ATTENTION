{
 "cells": [
  {
   "cell_type": "markdown",
   "metadata": {},
   "source": [
    "## Importing the necessary Libraries"
   ]
  },
  {
   "cell_type": "code",
   "execution_count": 38,
   "metadata": {},
   "outputs": [],
   "source": [
    "from PIL import Image\n",
    "import torch\n",
    "from datasets import load_dataset\n",
    "from tqdm.notebook import tqdm\n",
    "import numpy as np\n",
    "import pandas as pd\n",
    "import matplotlib.pyplot as plt\n",
    "from torch.utils.data import DataLoader\n",
    "from torchvision import transforms\n",
    "from transformers import BertTokenizer\n",
    "import torch.nn as nn\n",
    "import torchvision.models as models\n",
    "from transformers import BertModel\n"
   ]
  },
  {
   "cell_type": "markdown",
   "metadata": {},
   "source": [
    "## Check for GPU"
   ]
  },
  {
   "cell_type": "code",
   "execution_count": 39,
   "metadata": {},
   "outputs": [
    {
     "name": "stdout",
     "output_type": "stream",
     "text": [
      "NVIDIA GeForce RTX 3060 Laptop GPU\n"
     ]
    }
   ],
   "source": [
    "device = torch.device(\"cuda\" if torch.cuda.is_available() else \"cpu\")\n",
    "#output the name of cuda device\n",
    "if torch.cuda.is_available():\n",
    "    print(torch.cuda.get_device_name(0))"
   ]
  },
  {
   "cell_type": "markdown",
   "metadata": {},
   "source": [
    "## Loading Dataset"
   ]
  },
  {
   "cell_type": "code",
   "execution_count": 40,
   "metadata": {},
   "outputs": [],
   "source": [
    "base_path = 'pvqa/'\n",
    "\n",
    "pvqa_dic_path = base_path + 'pvqa_dictionary.pkl'\n",
    "test_img_id2idx_path = base_path + 'test_img_id2idx.pkl'\n",
    "train_img_id2idx_path = base_path + 'train_img_id2idx.pkl'\n",
    "val_img_id2idx_path = base_path + 'val_img_id2idx.pkl'\n",
    "\n",
    "pvqa_dic_pkl = pd.read_pickle(pvqa_dic_path)\n",
    "test_img_id2idx_pkl = pd.read_pickle(test_img_id2idx_path)\n",
    "train_img_id2idx_pkl = pd.read_pickle(train_img_id2idx_path)\n",
    "val_img_id2idx_pkl = pd.read_pickle(val_img_id2idx_path)"
   ]
  },
  {
   "cell_type": "code",
   "execution_count": 41,
   "metadata": {},
   "outputs": [],
   "source": [
    "qas_base_path = base_path + 'qas/'\n",
    "\n",
    "q2a_path = qas_base_path + 'q2a.pkl'\n",
    "ans2lbl_path = qas_base_path + 'ans2label.pkl'\n",
    "qid2a_path = qas_base_path + 'qid2a.pkl'\n",
    "qid2q_path = qas_base_path + 'qid2q.pkl'\n",
    "test_vqa_path = qas_base_path + 'test_vqa.pkl'\n",
    "train_vqa_path = qas_base_path + 'train_vqa.pkl'\n",
    "val_vqa_path = qas_base_path + 'val_vqa.pkl'\n",
    "train_qa_path = qas_base_path + 'train/train_qa.pkl'\n",
    "trainval_ans2lbl_path = qas_base_path + 'trainval_ans2label.pkl'\n",
    "trainval_lbl2ans_path = qas_base_path + 'trainval_label2ans.pkl'\n",
    "\n",
    "q2a_pairs = pd.read_pickle(q2a_path)\n",
    "ans2lbl_pairs = pd.read_pickle(ans2lbl_path)\n",
    "qid2a_pairs = pd.read_pickle(qid2a_path)\n",
    "qid2q_pairs = pd.read_pickle(qid2q_path)\n",
    "test_vqa_pairs = pd.read_pickle(test_vqa_path)\n",
    "train_vqa_pairs = pd.read_pickle(train_vqa_path)\n",
    "train_qa_pairs = pd.read_pickle(train_qa_path)\n",
    "val_vqa_pairs = pd.read_pickle(val_vqa_path)\n",
    "trainval_lbl2ans_pairs = pd.read_pickle(trainval_lbl2ans_path)\n",
    "trainval_ans2lbl_pairs = pd.read_pickle(trainval_ans2lbl_path)"
   ]
  },
  {
   "cell_type": "code",
   "execution_count": 42,
   "metadata": {},
   "outputs": [],
   "source": [
    "train_vqa_df = pd.DataFrame(train_vqa_pairs)\n",
    "val_vqa_df = pd.DataFrame(val_vqa_pairs)\n",
    "test_vqa_df = pd.DataFrame(test_vqa_pairs)"
   ]
  },
  {
   "cell_type": "code",
   "execution_count": 43,
   "metadata": {},
   "outputs": [
    {
     "data": {
      "text/html": [
       "<div>\n",
       "<style scoped>\n",
       "    .dataframe tbody tr th:only-of-type {\n",
       "        vertical-align: middle;\n",
       "    }\n",
       "\n",
       "    .dataframe tbody tr th {\n",
       "        vertical-align: top;\n",
       "    }\n",
       "\n",
       "    .dataframe thead th {\n",
       "        text-align: right;\n",
       "    }\n",
       "</style>\n",
       "<table border=\"1\" class=\"dataframe\">\n",
       "  <thead>\n",
       "    <tr style=\"text-align: right;\">\n",
       "      <th></th>\n",
       "      <th>answer_type</th>\n",
       "      <th>img_id</th>\n",
       "      <th>label</th>\n",
       "      <th>question_id</th>\n",
       "      <th>question_type</th>\n",
       "      <th>sent</th>\n",
       "    </tr>\n",
       "  </thead>\n",
       "  <tbody>\n",
       "    <tr>\n",
       "      <th>0</th>\n",
       "      <td>other</td>\n",
       "      <td>test_0167</td>\n",
       "      <td>{'the histone subunits': 1}</td>\n",
       "      <td>300167000</td>\n",
       "      <td>what</td>\n",
       "      <td>What are positively charged,  thus allowing th...</td>\n",
       "    </tr>\n",
       "    <tr>\n",
       "      <th>1</th>\n",
       "      <td>other</td>\n",
       "      <td>test_0167</td>\n",
       "      <td>{'positively charged': 1}</td>\n",
       "      <td>300167001</td>\n",
       "      <td>how</td>\n",
       "      <td>How are the histone subunits charged?</td>\n",
       "    </tr>\n",
       "    <tr>\n",
       "      <th>2</th>\n",
       "      <td>yes/no</td>\n",
       "      <td>test_0167</td>\n",
       "      <td>{'yes': 1}</td>\n",
       "      <td>300167002</td>\n",
       "      <td>are</td>\n",
       "      <td>Are the histone subunits positively charged,  ...</td>\n",
       "    </tr>\n",
       "    <tr>\n",
       "      <th>3</th>\n",
       "      <td>other</td>\n",
       "      <td>test_0099</td>\n",
       "      <td>{'the principal cellular alterations that char...</td>\n",
       "      <td>300099000</td>\n",
       "      <td>what</td>\n",
       "      <td>What are illustrated?</td>\n",
       "    </tr>\n",
       "    <tr>\n",
       "      <th>4</th>\n",
       "      <td>yes/no</td>\n",
       "      <td>test_0099</td>\n",
       "      <td>{'yes': 1}</td>\n",
       "      <td>300099001</td>\n",
       "      <td>are</td>\n",
       "      <td>Are the principal cellular alterations that ch...</td>\n",
       "    </tr>\n",
       "    <tr>\n",
       "      <th>...</th>\n",
       "      <td>...</td>\n",
       "      <td>...</td>\n",
       "      <td>...</td>\n",
       "      <td>...</td>\n",
       "      <td>...</td>\n",
       "      <td>...</td>\n",
       "    </tr>\n",
       "    <tr>\n",
       "      <th>6756</th>\n",
       "      <td>other</td>\n",
       "      <td>test_0648</td>\n",
       "      <td>{'kidney': 1}</td>\n",
       "      <td>300648002</td>\n",
       "      <td>what</td>\n",
       "      <td>What is present?</td>\n",
       "    </tr>\n",
       "    <tr>\n",
       "      <th>6757</th>\n",
       "      <td>yes/no</td>\n",
       "      <td>test_0648</td>\n",
       "      <td>{'yes': 1}</td>\n",
       "      <td>300648003</td>\n",
       "      <td>is</td>\n",
       "      <td>Is kidney present?</td>\n",
       "    </tr>\n",
       "    <tr>\n",
       "      <th>6758</th>\n",
       "      <td>other</td>\n",
       "      <td>test_0648</td>\n",
       "      <td>{'sarcoidosis': 1}</td>\n",
       "      <td>300648004</td>\n",
       "      <td>what</td>\n",
       "      <td>What is present?</td>\n",
       "    </tr>\n",
       "    <tr>\n",
       "      <th>6759</th>\n",
       "      <td>yes/no</td>\n",
       "      <td>test_0648</td>\n",
       "      <td>{'yes': 1}</td>\n",
       "      <td>300648005</td>\n",
       "      <td>is</td>\n",
       "      <td>Is sarcoidosis present?</td>\n",
       "    </tr>\n",
       "    <tr>\n",
       "      <th>6760</th>\n",
       "      <td>other</td>\n",
       "      <td>test_0648</td>\n",
       "      <td>{'urinary': 1}</td>\n",
       "      <td>300648006</td>\n",
       "      <td>where</td>\n",
       "      <td>Where is this?</td>\n",
       "    </tr>\n",
       "  </tbody>\n",
       "</table>\n",
       "<p>6761 rows × 6 columns</p>\n",
       "</div>"
      ],
      "text/plain": [
       "     answer_type     img_id  \\\n",
       "0          other  test_0167   \n",
       "1          other  test_0167   \n",
       "2         yes/no  test_0167   \n",
       "3          other  test_0099   \n",
       "4         yes/no  test_0099   \n",
       "...          ...        ...   \n",
       "6756       other  test_0648   \n",
       "6757      yes/no  test_0648   \n",
       "6758       other  test_0648   \n",
       "6759      yes/no  test_0648   \n",
       "6760       other  test_0648   \n",
       "\n",
       "                                                  label  question_id  \\\n",
       "0                           {'the histone subunits': 1}    300167000   \n",
       "1                             {'positively charged': 1}    300167001   \n",
       "2                                            {'yes': 1}    300167002   \n",
       "3     {'the principal cellular alterations that char...    300099000   \n",
       "4                                            {'yes': 1}    300099001   \n",
       "...                                                 ...          ...   \n",
       "6756                                      {'kidney': 1}    300648002   \n",
       "6757                                         {'yes': 1}    300648003   \n",
       "6758                                 {'sarcoidosis': 1}    300648004   \n",
       "6759                                         {'yes': 1}    300648005   \n",
       "6760                                     {'urinary': 1}    300648006   \n",
       "\n",
       "     question_type                                               sent  \n",
       "0             what  What are positively charged,  thus allowing th...  \n",
       "1              how              How are the histone subunits charged?  \n",
       "2              are  Are the histone subunits positively charged,  ...  \n",
       "3             what                              What are illustrated?  \n",
       "4              are  Are the principal cellular alterations that ch...  \n",
       "...            ...                                                ...  \n",
       "6756          what                                   What is present?  \n",
       "6757            is                                 Is kidney present?  \n",
       "6758          what                                   What is present?  \n",
       "6759            is                            Is sarcoidosis present?  \n",
       "6760         where                                     Where is this?  \n",
       "\n",
       "[6761 rows x 6 columns]"
      ]
     },
     "execution_count": 43,
     "metadata": {},
     "output_type": "execute_result"
    }
   ],
   "source": [
    "test_vqa_df"
   ]
  },
  {
   "cell_type": "code",
   "execution_count": 44,
   "metadata": {},
   "outputs": [
    {
     "data": {
      "text/html": [
       "<div>\n",
       "<style scoped>\n",
       "    .dataframe tbody tr th:only-of-type {\n",
       "        vertical-align: middle;\n",
       "    }\n",
       "\n",
       "    .dataframe tbody tr th {\n",
       "        vertical-align: top;\n",
       "    }\n",
       "\n",
       "    .dataframe thead th {\n",
       "        text-align: right;\n",
       "    }\n",
       "</style>\n",
       "<table border=\"1\" class=\"dataframe\">\n",
       "  <thead>\n",
       "    <tr style=\"text-align: right;\">\n",
       "      <th></th>\n",
       "      <th>answer_type</th>\n",
       "      <th>img_id</th>\n",
       "      <th>label</th>\n",
       "      <th>question_id</th>\n",
       "      <th>question_type</th>\n",
       "      <th>sent</th>\n",
       "    </tr>\n",
       "  </thead>\n",
       "  <tbody>\n",
       "    <tr>\n",
       "      <th>0</th>\n",
       "      <td>other</td>\n",
       "      <td>train_0422</td>\n",
       "      <td>{'in the canals of hering': 1}</td>\n",
       "      <td>100422000</td>\n",
       "      <td>where</td>\n",
       "      <td>Where are liver stem cells (oval cells) located?</td>\n",
       "    </tr>\n",
       "    <tr>\n",
       "      <th>1</th>\n",
       "      <td>other</td>\n",
       "      <td>train_0422</td>\n",
       "      <td>{'bile duct cells and canals of hering': 1}</td>\n",
       "      <td>100422001</td>\n",
       "      <td>what</td>\n",
       "      <td>What are stained here with an immunohistochemi...</td>\n",
       "    </tr>\n",
       "    <tr>\n",
       "      <th>2</th>\n",
       "      <td>other</td>\n",
       "      <td>train_0422</td>\n",
       "      <td>{'an immunohistochemical stain': 1}</td>\n",
       "      <td>100422002</td>\n",
       "      <td>what</td>\n",
       "      <td>What are bile duct cells and canals of Hering ...</td>\n",
       "    </tr>\n",
       "    <tr>\n",
       "      <th>3</th>\n",
       "      <td>yes/no</td>\n",
       "      <td>train_0422</td>\n",
       "      <td>{'yes': 1}</td>\n",
       "      <td>100422003</td>\n",
       "      <td>are</td>\n",
       "      <td>Are bile duct cells and canals of Hering stain...</td>\n",
       "    </tr>\n",
       "    <tr>\n",
       "      <th>4</th>\n",
       "      <td>other</td>\n",
       "      <td>train_0986</td>\n",
       "      <td>{'an infarct in the brain': 1}</td>\n",
       "      <td>100986000</td>\n",
       "      <td>what</td>\n",
       "      <td>What shows dissolution of the tissue?</td>\n",
       "    </tr>\n",
       "    <tr>\n",
       "      <th>...</th>\n",
       "      <td>...</td>\n",
       "      <td>...</td>\n",
       "      <td>...</td>\n",
       "      <td>...</td>\n",
       "      <td>...</td>\n",
       "      <td>...</td>\n",
       "    </tr>\n",
       "    <tr>\n",
       "      <th>19750</th>\n",
       "      <td>other</td>\n",
       "      <td>train_2794</td>\n",
       "      <td>{'urinary': 1}</td>\n",
       "      <td>102794003</td>\n",
       "      <td>where</td>\n",
       "      <td>Where is this?</td>\n",
       "    </tr>\n",
       "    <tr>\n",
       "      <th>19751</th>\n",
       "      <td>other</td>\n",
       "      <td>train_2584</td>\n",
       "      <td>{'polyarteritis nodosa': 1}</td>\n",
       "      <td>102584000</td>\n",
       "      <td>what</td>\n",
       "      <td>What does this image show?</td>\n",
       "    </tr>\n",
       "    <tr>\n",
       "      <th>19752</th>\n",
       "      <td>yes/no</td>\n",
       "      <td>train_2584</td>\n",
       "      <td>{'yes': 1}</td>\n",
       "      <td>102584001</td>\n",
       "      <td>does</td>\n",
       "      <td>Does this image show polyarteritis nodosa, kid...</td>\n",
       "    </tr>\n",
       "    <tr>\n",
       "      <th>19753</th>\n",
       "      <td>yes/no</td>\n",
       "      <td>train_2584</td>\n",
       "      <td>{'no': 1}</td>\n",
       "      <td>102584002</td>\n",
       "      <td>does</td>\n",
       "      <td>Does cytomegaly show polyarteritis nodosa, kid...</td>\n",
       "    </tr>\n",
       "    <tr>\n",
       "      <th>19754</th>\n",
       "      <td>other</td>\n",
       "      <td>train_2584</td>\n",
       "      <td>{'urinary': 1}</td>\n",
       "      <td>102584003</td>\n",
       "      <td>where</td>\n",
       "      <td>Where is this?</td>\n",
       "    </tr>\n",
       "  </tbody>\n",
       "</table>\n",
       "<p>19755 rows × 6 columns</p>\n",
       "</div>"
      ],
      "text/plain": [
       "      answer_type      img_id                                        label  \\\n",
       "0           other  train_0422               {'in the canals of hering': 1}   \n",
       "1           other  train_0422  {'bile duct cells and canals of hering': 1}   \n",
       "2           other  train_0422          {'an immunohistochemical stain': 1}   \n",
       "3          yes/no  train_0422                                   {'yes': 1}   \n",
       "4           other  train_0986               {'an infarct in the brain': 1}   \n",
       "...           ...         ...                                          ...   \n",
       "19750       other  train_2794                               {'urinary': 1}   \n",
       "19751       other  train_2584                  {'polyarteritis nodosa': 1}   \n",
       "19752      yes/no  train_2584                                   {'yes': 1}   \n",
       "19753      yes/no  train_2584                                    {'no': 1}   \n",
       "19754       other  train_2584                               {'urinary': 1}   \n",
       "\n",
       "       question_id question_type  \\\n",
       "0        100422000         where   \n",
       "1        100422001          what   \n",
       "2        100422002          what   \n",
       "3        100422003           are   \n",
       "4        100986000          what   \n",
       "...            ...           ...   \n",
       "19750    102794003         where   \n",
       "19751    102584000          what   \n",
       "19752    102584001          does   \n",
       "19753    102584002          does   \n",
       "19754    102584003         where   \n",
       "\n",
       "                                                    sent  \n",
       "0       Where are liver stem cells (oval cells) located?  \n",
       "1      What are stained here with an immunohistochemi...  \n",
       "2      What are bile duct cells and canals of Hering ...  \n",
       "3      Are bile duct cells and canals of Hering stain...  \n",
       "4                  What shows dissolution of the tissue?  \n",
       "...                                                  ...  \n",
       "19750                                     Where is this?  \n",
       "19751                         What does this image show?  \n",
       "19752  Does this image show polyarteritis nodosa, kid...  \n",
       "19753  Does cytomegaly show polyarteritis nodosa, kid...  \n",
       "19754                                     Where is this?  \n",
       "\n",
       "[19755 rows x 6 columns]"
      ]
     },
     "execution_count": 44,
     "metadata": {},
     "output_type": "execute_result"
    }
   ],
   "source": [
    "train_vqa_df"
   ]
  },
  {
   "cell_type": "code",
   "execution_count": 45,
   "metadata": {},
   "outputs": [
    {
     "data": {
      "text/html": [
       "<div>\n",
       "<style scoped>\n",
       "    .dataframe tbody tr th:only-of-type {\n",
       "        vertical-align: middle;\n",
       "    }\n",
       "\n",
       "    .dataframe tbody tr th {\n",
       "        vertical-align: top;\n",
       "    }\n",
       "\n",
       "    .dataframe thead th {\n",
       "        text-align: right;\n",
       "    }\n",
       "</style>\n",
       "<table border=\"1\" class=\"dataframe\">\n",
       "  <thead>\n",
       "    <tr style=\"text-align: right;\">\n",
       "      <th></th>\n",
       "      <th>answer_type</th>\n",
       "      <th>img_id</th>\n",
       "      <th>label</th>\n",
       "      <th>question_id</th>\n",
       "      <th>question_type</th>\n",
       "      <th>sent</th>\n",
       "    </tr>\n",
       "  </thead>\n",
       "  <tbody>\n",
       "    <tr>\n",
       "      <th>0</th>\n",
       "      <td>other</td>\n",
       "      <td>val_0261</td>\n",
       "      <td>{'neutrophils': 1}</td>\n",
       "      <td>200261000</td>\n",
       "      <td>what</td>\n",
       "      <td>What have lost their nuclei?</td>\n",
       "    </tr>\n",
       "    <tr>\n",
       "      <th>1</th>\n",
       "      <td>other</td>\n",
       "      <td>val_0261</td>\n",
       "      <td>{'neutrophils': 1}</td>\n",
       "      <td>200261001</td>\n",
       "      <td>whose</td>\n",
       "      <td>Whose nuclei have been lost?</td>\n",
       "    </tr>\n",
       "    <tr>\n",
       "      <th>2</th>\n",
       "      <td>other</td>\n",
       "      <td>val_0261</td>\n",
       "      <td>{'their': 1}</td>\n",
       "      <td>200261002</td>\n",
       "      <td>two</td>\n",
       "      <td>Two have lost whose nuclei ?</td>\n",
       "    </tr>\n",
       "    <tr>\n",
       "      <th>3</th>\n",
       "      <td>other</td>\n",
       "      <td>val_0178</td>\n",
       "      <td>{'the embolus': 1}</td>\n",
       "      <td>200178000</td>\n",
       "      <td>what</td>\n",
       "      <td>What is composed of hematopoietic marrow and m...</td>\n",
       "    </tr>\n",
       "    <tr>\n",
       "      <th>4</th>\n",
       "      <td>other</td>\n",
       "      <td>val_0178</td>\n",
       "      <td>{'hematopoietic marrow and marrow fat cells': 1}</td>\n",
       "      <td>200178001</td>\n",
       "      <td>what</td>\n",
       "      <td>What is the embolus composed of?</td>\n",
       "    </tr>\n",
       "    <tr>\n",
       "      <th>...</th>\n",
       "      <td>...</td>\n",
       "      <td>...</td>\n",
       "      <td>...</td>\n",
       "      <td>...</td>\n",
       "      <td>...</td>\n",
       "      <td>...</td>\n",
       "    </tr>\n",
       "    <tr>\n",
       "      <th>6274</th>\n",
       "      <td>other</td>\n",
       "      <td>val_0919</td>\n",
       "      <td>{'urinary': 1}</td>\n",
       "      <td>200919005</td>\n",
       "      <td>where</td>\n",
       "      <td>Where is this?</td>\n",
       "    </tr>\n",
       "    <tr>\n",
       "      <th>6275</th>\n",
       "      <td>other</td>\n",
       "      <td>val_0849</td>\n",
       "      <td>{'polyarteritis nodosa': 1}</td>\n",
       "      <td>200849000</td>\n",
       "      <td>what</td>\n",
       "      <td>What does this image show?</td>\n",
       "    </tr>\n",
       "    <tr>\n",
       "      <th>6276</th>\n",
       "      <td>yes/no</td>\n",
       "      <td>val_0849</td>\n",
       "      <td>{'yes': 1}</td>\n",
       "      <td>200849001</td>\n",
       "      <td>does</td>\n",
       "      <td>Does this image show polyarteritis nodosa, kid...</td>\n",
       "    </tr>\n",
       "    <tr>\n",
       "      <th>6277</th>\n",
       "      <td>yes/no</td>\n",
       "      <td>val_0849</td>\n",
       "      <td>{'no': 1}</td>\n",
       "      <td>200849002</td>\n",
       "      <td>does</td>\n",
       "      <td>Does metastatic carcinoma lung show polyarteri...</td>\n",
       "    </tr>\n",
       "    <tr>\n",
       "      <th>6278</th>\n",
       "      <td>other</td>\n",
       "      <td>val_0849</td>\n",
       "      <td>{'urinary': 1}</td>\n",
       "      <td>200849003</td>\n",
       "      <td>where</td>\n",
       "      <td>Where is this?</td>\n",
       "    </tr>\n",
       "  </tbody>\n",
       "</table>\n",
       "<p>6279 rows × 6 columns</p>\n",
       "</div>"
      ],
      "text/plain": [
       "     answer_type    img_id                                             label  \\\n",
       "0          other  val_0261                                {'neutrophils': 1}   \n",
       "1          other  val_0261                                {'neutrophils': 1}   \n",
       "2          other  val_0261                                      {'their': 1}   \n",
       "3          other  val_0178                                {'the embolus': 1}   \n",
       "4          other  val_0178  {'hematopoietic marrow and marrow fat cells': 1}   \n",
       "...          ...       ...                                               ...   \n",
       "6274       other  val_0919                                    {'urinary': 1}   \n",
       "6275       other  val_0849                       {'polyarteritis nodosa': 1}   \n",
       "6276      yes/no  val_0849                                        {'yes': 1}   \n",
       "6277      yes/no  val_0849                                         {'no': 1}   \n",
       "6278       other  val_0849                                    {'urinary': 1}   \n",
       "\n",
       "      question_id question_type  \\\n",
       "0       200261000          what   \n",
       "1       200261001         whose   \n",
       "2       200261002           two   \n",
       "3       200178000          what   \n",
       "4       200178001          what   \n",
       "...           ...           ...   \n",
       "6274    200919005         where   \n",
       "6275    200849000          what   \n",
       "6276    200849001          does   \n",
       "6277    200849002          does   \n",
       "6278    200849003         where   \n",
       "\n",
       "                                                   sent  \n",
       "0                          What have lost their nuclei?  \n",
       "1                          Whose nuclei have been lost?  \n",
       "2                          Two have lost whose nuclei ?  \n",
       "3     What is composed of hematopoietic marrow and m...  \n",
       "4                      What is the embolus composed of?  \n",
       "...                                                 ...  \n",
       "6274                                     Where is this?  \n",
       "6275                         What does this image show?  \n",
       "6276  Does this image show polyarteritis nodosa, kid...  \n",
       "6277  Does metastatic carcinoma lung show polyarteri...  \n",
       "6278                                     Where is this?  \n",
       "\n",
       "[6279 rows x 6 columns]"
      ]
     },
     "execution_count": 45,
     "metadata": {},
     "output_type": "execute_result"
    }
   ],
   "source": [
    "val_vqa_df"
   ]
  },
  {
   "cell_type": "code",
   "execution_count": 46,
   "metadata": {},
   "outputs": [],
   "source": [
    "tr_q = list(train_vqa_df['sent'])\n",
    "val_q = list(val_vqa_df['sent'])\n",
    "ts_q = list(test_vqa_df['sent'])\n",
    "\n",
    "tr_a = [q2a_pairs[each] for each in tr_q]\n",
    "val_a = [q2a_pairs[each] for each in val_q]\n",
    "ts_a = [q2a_pairs[each] for each in ts_q]\n",
    "\n",
    "qs = [tr_q, val_q, ts_q]\n",
    "ans = [tr_a, val_a, ts_a]\n",
    "\n",
    "del tr_q, tr_a, ts_q, ts_a, val_q, val_a"
   ]
  },
  {
   "cell_type": "code",
   "execution_count": 47,
   "metadata": {},
   "outputs": [
    {
     "name": "stdout",
     "output_type": "stream",
     "text": [
      "Question with maximum length in validation set: 252\n",
      "Question with minimum length in validation set: 8\n",
      "Question with maximum length in training set: 255\n",
      "Question with minimum length in training set: 9\n",
      "Question with maximum length in test set: 264\n",
      "Question with minimum length in test set: 8\n"
     ]
    }
   ],
   "source": [
    "val_lens = [len(each) for each in qs[1]]\n",
    "tr_lens = [len(each) for each in qs[0]]\n",
    "ts_lens = [len(each) for each in qs[2]]\n",
    "\n",
    "print('Question with maximum length in validation set:', max(val_lens))\n",
    "print('Question with minimum length in validation set:', min(val_lens))\n",
    "print('Question with maximum length in training set:', max(tr_lens))\n",
    "print('Question with minimum length in training set:', min(tr_lens))\n",
    "print('Question with maximum length in test set:', max(ts_lens))\n",
    "print('Question with minimum length in test set:', min(ts_lens))\n",
    "\n",
    "del tr_lens, val_lens, ts_lens"
   ]
  },
  {
   "cell_type": "code",
   "execution_count": 48,
   "metadata": {},
   "outputs": [],
   "source": [
    "idx = 0\n",
    "ans2lbl_len = 4092\n",
    "ans2lbl_keys = list(ans2lbl_pairs.keys())\n",
    "\n",
    "for each in ans:\n",
    "\tfor i in range(len(each)):\n",
    "\t\tif each[i] not in ans2lbl_keys:\n",
    "\t\t\tans2lbl_pairs[each[i]] = ans2lbl_len + idx\n",
    "\t\t\tidx += 1\n",
    "\n",
    "del ans2lbl_keys"
   ]
  },
  {
   "cell_type": "code",
   "execution_count": 49,
   "metadata": {},
   "outputs": [
    {
     "name": "stdout",
     "output_type": "stream",
     "text": [
      "4645\n"
     ]
    }
   ],
   "source": [
    "num_classes = len(list(ans2lbl_pairs.keys()))\n",
    "print(num_classes)\n",
    "anss = list(ans2lbl_pairs.keys())\n",
    "lbls = list(range(0, len(anss)))\n",
    "ans2lbl_pairs = dict(zip(anss, lbls))\n",
    "\n",
    "del anss, lbls"
   ]
  },
  {
   "cell_type": "code",
   "execution_count": 50,
   "metadata": {},
   "outputs": [],
   "source": [
    "dfs = [train_vqa_df, val_vqa_df, test_vqa_df]\n",
    "\n",
    "del train_vqa_df, val_vqa_df, test_vqa_df\n",
    "\n",
    "for i in range(len(dfs)):\n",
    "    dfs[i]['question'] = dfs[i]['sent']\n",
    "    dfs[i]['answer'] = pd.Series(ans[i])\n",
    "    dfs[i]['label'] = pd.Series([ans2lbl_pairs[each] for each in ans[i]])\n",
    "\n",
    "    if i == 0:\n",
    "        dfs[i]['img_id'] = base_path + 'images/train/' + dfs[i]['img_id']\n",
    "    elif i == 1:\n",
    "        dfs[i]['img_id'] = base_path + 'images/val/' + dfs[i]['img_id']\n",
    "    else:\n",
    "        dfs[i]['img_id'] = base_path + 'images/test/' + dfs[i]['img_id']\n",
    "\n",
    "    dfs[i].drop(['sent', 'answer_type', 'question_id', 'question_type'], axis=1, inplace=True)"
   ]
  },
  {
   "cell_type": "code",
   "execution_count": 51,
   "metadata": {},
   "outputs": [
    {
     "data": {
      "text/html": [
       "<div>\n",
       "<style scoped>\n",
       "    .dataframe tbody tr th:only-of-type {\n",
       "        vertical-align: middle;\n",
       "    }\n",
       "\n",
       "    .dataframe tbody tr th {\n",
       "        vertical-align: top;\n",
       "    }\n",
       "\n",
       "    .dataframe thead th {\n",
       "        text-align: right;\n",
       "    }\n",
       "</style>\n",
       "<table border=\"1\" class=\"dataframe\">\n",
       "  <thead>\n",
       "    <tr style=\"text-align: right;\">\n",
       "      <th></th>\n",
       "      <th>img_id</th>\n",
       "      <th>label</th>\n",
       "      <th>question</th>\n",
       "      <th>answer</th>\n",
       "    </tr>\n",
       "  </thead>\n",
       "  <tbody>\n",
       "    <tr>\n",
       "      <th>0</th>\n",
       "      <td>pvqa/images/train/train_0422</td>\n",
       "      <td>0</td>\n",
       "      <td>Where are liver stem cells (oval cells) located?</td>\n",
       "      <td>in the canals of hering</td>\n",
       "    </tr>\n",
       "    <tr>\n",
       "      <th>1</th>\n",
       "      <td>pvqa/images/train/train_0422</td>\n",
       "      <td>1</td>\n",
       "      <td>What are stained here with an immunohistochemi...</td>\n",
       "      <td>bile duct cells and canals of hering</td>\n",
       "    </tr>\n",
       "    <tr>\n",
       "      <th>2</th>\n",
       "      <td>pvqa/images/train/train_0422</td>\n",
       "      <td>2</td>\n",
       "      <td>What are bile duct cells and canals of Hering ...</td>\n",
       "      <td>an immunohistochemical stain</td>\n",
       "    </tr>\n",
       "    <tr>\n",
       "      <th>3</th>\n",
       "      <td>pvqa/images/train/train_0422</td>\n",
       "      <td>3</td>\n",
       "      <td>Are bile duct cells and canals of Hering stain...</td>\n",
       "      <td>yes</td>\n",
       "    </tr>\n",
       "    <tr>\n",
       "      <th>4</th>\n",
       "      <td>pvqa/images/train/train_0986</td>\n",
       "      <td>4</td>\n",
       "      <td>What shows dissolution of the tissue?</td>\n",
       "      <td>an infarct in the brain</td>\n",
       "    </tr>\n",
       "    <tr>\n",
       "      <th>...</th>\n",
       "      <td>...</td>\n",
       "      <td>...</td>\n",
       "      <td>...</td>\n",
       "      <td>...</td>\n",
       "    </tr>\n",
       "    <tr>\n",
       "      <th>19750</th>\n",
       "      <td>pvqa/images/train/train_2794</td>\n",
       "      <td>3203</td>\n",
       "      <td>Where is this?</td>\n",
       "      <td>urinary</td>\n",
       "    </tr>\n",
       "    <tr>\n",
       "      <th>19751</th>\n",
       "      <td>pvqa/images/train/train_2584</td>\n",
       "      <td>4115</td>\n",
       "      <td>What does this image show?</td>\n",
       "      <td>giant cells and fibrosis</td>\n",
       "    </tr>\n",
       "    <tr>\n",
       "      <th>19752</th>\n",
       "      <td>pvqa/images/train/train_2584</td>\n",
       "      <td>3</td>\n",
       "      <td>Does this image show polyarteritis nodosa, kid...</td>\n",
       "      <td>yes</td>\n",
       "    </tr>\n",
       "    <tr>\n",
       "      <th>19753</th>\n",
       "      <td>pvqa/images/train/train_2584</td>\n",
       "      <td>6</td>\n",
       "      <td>Does cytomegaly show polyarteritis nodosa, kid...</td>\n",
       "      <td>no</td>\n",
       "    </tr>\n",
       "    <tr>\n",
       "      <th>19754</th>\n",
       "      <td>pvqa/images/train/train_2584</td>\n",
       "      <td>3203</td>\n",
       "      <td>Where is this?</td>\n",
       "      <td>urinary</td>\n",
       "    </tr>\n",
       "  </tbody>\n",
       "</table>\n",
       "<p>19755 rows × 4 columns</p>\n",
       "</div>"
      ],
      "text/plain": [
       "                             img_id  label  \\\n",
       "0      pvqa/images/train/train_0422      0   \n",
       "1      pvqa/images/train/train_0422      1   \n",
       "2      pvqa/images/train/train_0422      2   \n",
       "3      pvqa/images/train/train_0422      3   \n",
       "4      pvqa/images/train/train_0986      4   \n",
       "...                             ...    ...   \n",
       "19750  pvqa/images/train/train_2794   3203   \n",
       "19751  pvqa/images/train/train_2584   4115   \n",
       "19752  pvqa/images/train/train_2584      3   \n",
       "19753  pvqa/images/train/train_2584      6   \n",
       "19754  pvqa/images/train/train_2584   3203   \n",
       "\n",
       "                                                question  \\\n",
       "0       Where are liver stem cells (oval cells) located?   \n",
       "1      What are stained here with an immunohistochemi...   \n",
       "2      What are bile duct cells and canals of Hering ...   \n",
       "3      Are bile duct cells and canals of Hering stain...   \n",
       "4                  What shows dissolution of the tissue?   \n",
       "...                                                  ...   \n",
       "19750                                     Where is this?   \n",
       "19751                         What does this image show?   \n",
       "19752  Does this image show polyarteritis nodosa, kid...   \n",
       "19753  Does cytomegaly show polyarteritis nodosa, kid...   \n",
       "19754                                     Where is this?   \n",
       "\n",
       "                                     answer  \n",
       "0                   in the canals of hering  \n",
       "1      bile duct cells and canals of hering  \n",
       "2              an immunohistochemical stain  \n",
       "3                                       yes  \n",
       "4                   an infarct in the brain  \n",
       "...                                     ...  \n",
       "19750                               urinary  \n",
       "19751              giant cells and fibrosis  \n",
       "19752                                   yes  \n",
       "19753                                    no  \n",
       "19754                               urinary  \n",
       "\n",
       "[19755 rows x 4 columns]"
      ]
     },
     "execution_count": 51,
     "metadata": {},
     "output_type": "execute_result"
    }
   ],
   "source": [
    "dfs[0]"
   ]
  },
  {
   "cell_type": "code",
   "execution_count": 52,
   "metadata": {},
   "outputs": [],
   "source": [
    "### Give me a function that extracts all the rows from the datafram having yes or no as the answer\n",
    "def extract_yes_no(df):\n",
    "    return df[(df['answer'] == 'yes') | (df['answer'] == 'no')]"
   ]
  },
  {
   "cell_type": "code",
   "execution_count": 53,
   "metadata": {},
   "outputs": [],
   "source": [
    "train_yes_no = extract_yes_no(dfs[0])\n",
    "val_yes_no = extract_yes_no(dfs[1])\n",
    "test_yes_no = extract_yes_no(dfs[2])"
   ]
  },
  {
   "cell_type": "code",
   "execution_count": 54,
   "metadata": {},
   "outputs": [
    {
     "data": {
      "text/html": [
       "<div>\n",
       "<style scoped>\n",
       "    .dataframe tbody tr th:only-of-type {\n",
       "        vertical-align: middle;\n",
       "    }\n",
       "\n",
       "    .dataframe tbody tr th {\n",
       "        vertical-align: top;\n",
       "    }\n",
       "\n",
       "    .dataframe thead th {\n",
       "        text-align: right;\n",
       "    }\n",
       "</style>\n",
       "<table border=\"1\" class=\"dataframe\">\n",
       "  <thead>\n",
       "    <tr style=\"text-align: right;\">\n",
       "      <th></th>\n",
       "      <th>img_id</th>\n",
       "      <th>label</th>\n",
       "      <th>question</th>\n",
       "      <th>answer</th>\n",
       "    </tr>\n",
       "  </thead>\n",
       "  <tbody>\n",
       "    <tr>\n",
       "      <th>3</th>\n",
       "      <td>pvqa/images/train/train_0422</td>\n",
       "      <td>3</td>\n",
       "      <td>Are bile duct cells and canals of Hering stain...</td>\n",
       "      <td>yes</td>\n",
       "    </tr>\n",
       "    <tr>\n",
       "      <th>6</th>\n",
       "      <td>pvqa/images/train/train_0986</td>\n",
       "      <td>3</td>\n",
       "      <td>Does an infarct in the brain show dissolution ...</td>\n",
       "      <td>yes</td>\n",
       "    </tr>\n",
       "    <tr>\n",
       "      <th>7</th>\n",
       "      <td>pvqa/images/train/train_0986</td>\n",
       "      <td>6</td>\n",
       "      <td>Does preserved show dissolution of the tissue?</td>\n",
       "      <td>no</td>\n",
       "    </tr>\n",
       "    <tr>\n",
       "      <th>12</th>\n",
       "      <td>pvqa/images/train/train_0929</td>\n",
       "      <td>3</td>\n",
       "      <td>Do the areas of white chalky deposits represen...</td>\n",
       "      <td>yes</td>\n",
       "    </tr>\n",
       "    <tr>\n",
       "      <th>13</th>\n",
       "      <td>pvqa/images/train/train_0929</td>\n",
       "      <td>6</td>\n",
       "      <td>Do the histone subunits represent foci of fat ...</td>\n",
       "      <td>no</td>\n",
       "    </tr>\n",
       "    <tr>\n",
       "      <th>...</th>\n",
       "      <td>...</td>\n",
       "      <td>...</td>\n",
       "      <td>...</td>\n",
       "      <td>...</td>\n",
       "    </tr>\n",
       "    <tr>\n",
       "      <th>19745</th>\n",
       "      <td>pvqa/images/train/train_2792</td>\n",
       "      <td>3</td>\n",
       "      <td>Is urinary present?</td>\n",
       "      <td>yes</td>\n",
       "    </tr>\n",
       "    <tr>\n",
       "      <th>19748</th>\n",
       "      <td>pvqa/images/train/train_2794</td>\n",
       "      <td>3</td>\n",
       "      <td>Is urinary present?</td>\n",
       "      <td>yes</td>\n",
       "    </tr>\n",
       "    <tr>\n",
       "      <th>19749</th>\n",
       "      <td>pvqa/images/train/train_2794</td>\n",
       "      <td>6</td>\n",
       "      <td>Is bone nearly completely filled with tumor pr...</td>\n",
       "      <td>no</td>\n",
       "    </tr>\n",
       "    <tr>\n",
       "      <th>19752</th>\n",
       "      <td>pvqa/images/train/train_2584</td>\n",
       "      <td>3</td>\n",
       "      <td>Does this image show polyarteritis nodosa, kid...</td>\n",
       "      <td>yes</td>\n",
       "    </tr>\n",
       "    <tr>\n",
       "      <th>19753</th>\n",
       "      <td>pvqa/images/train/train_2584</td>\n",
       "      <td>6</td>\n",
       "      <td>Does cytomegaly show polyarteritis nodosa, kid...</td>\n",
       "      <td>no</td>\n",
       "    </tr>\n",
       "  </tbody>\n",
       "</table>\n",
       "<p>9808 rows × 4 columns</p>\n",
       "</div>"
      ],
      "text/plain": [
       "                             img_id  label  \\\n",
       "3      pvqa/images/train/train_0422      3   \n",
       "6      pvqa/images/train/train_0986      3   \n",
       "7      pvqa/images/train/train_0986      6   \n",
       "12     pvqa/images/train/train_0929      3   \n",
       "13     pvqa/images/train/train_0929      6   \n",
       "...                             ...    ...   \n",
       "19745  pvqa/images/train/train_2792      3   \n",
       "19748  pvqa/images/train/train_2794      3   \n",
       "19749  pvqa/images/train/train_2794      6   \n",
       "19752  pvqa/images/train/train_2584      3   \n",
       "19753  pvqa/images/train/train_2584      6   \n",
       "\n",
       "                                                question answer  \n",
       "3      Are bile duct cells and canals of Hering stain...    yes  \n",
       "6      Does an infarct in the brain show dissolution ...    yes  \n",
       "7         Does preserved show dissolution of the tissue?     no  \n",
       "12     Do the areas of white chalky deposits represen...    yes  \n",
       "13     Do the histone subunits represent foci of fat ...     no  \n",
       "...                                                  ...    ...  \n",
       "19745                                Is urinary present?    yes  \n",
       "19748                                Is urinary present?    yes  \n",
       "19749  Is bone nearly completely filled with tumor pr...     no  \n",
       "19752  Does this image show polyarteritis nodosa, kid...    yes  \n",
       "19753  Does cytomegaly show polyarteritis nodosa, kid...     no  \n",
       "\n",
       "[9808 rows x 4 columns]"
      ]
     },
     "execution_count": 54,
     "metadata": {},
     "output_type": "execute_result"
    }
   ],
   "source": [
    "train_yes_no"
   ]
  },
  {
   "cell_type": "code",
   "execution_count": 27,
   "metadata": {},
   "outputs": [],
   "source": [
    "text_processor = BertTokenizer.from_pretrained('bert-base-uncased')\n",
    "data_transforms = {\n",
    "    'train':\n",
    "    transforms.Compose([\n",
    "        transforms.Resize((224, 224)),\n",
    "        transforms.RandomAffine(0, shear=10, scale=(0.9,1.1)),\n",
    "        transforms.RandomHorizontalFlip(),\n",
    "        transforms.RandomRotation(10),\n",
    "        transforms.ColorJitter(brightness=0.2, contrast=0.2, saturation=0.2, hue=0.2),\n",
    "        transforms.ToTensor(),\n",
    "        transforms.Normalize(mean=[0.485, 0.456, 0.406], std=[0.229, 0.224, 0.225])\n",
    "    ]),\n",
    "    'other':\n",
    "    transforms.Compose([\n",
    "        transforms.Resize((224, 224)),\n",
    "        transforms.ToTensor(),\n",
    "        transforms.Normalize(mean=[0.485, 0.456, 0.406], std=[0.229, 0.224, 0.225])\n",
    "    ]),\n",
    "}"
   ]
  },
  {
   "cell_type": "markdown",
   "metadata": {},
   "source": [
    "## Data Loader"
   ]
  },
  {
   "cell_type": "code",
   "execution_count": 28,
   "metadata": {},
   "outputs": [],
   "source": [
    "class VQADataset(torch.utils.data.Dataset):\n",
    "    def __init__(self,\n",
    "                df,\n",
    "                text_processor,\n",
    "                img_transform,\n",
    "                shuffle_data=True):\n",
    "\n",
    "        self.df = df\n",
    "        self.text_processor = text_processor\n",
    "        self.max_len = 32\n",
    "\n",
    "        if shuffle_data:\n",
    "            self.df = self.df.sample(frac=1).reset_index(drop=True)\n",
    "\n",
    "        self.img_transform = img_transform\n",
    "\n",
    "    def __len__(self) -> int:\n",
    "        return len(self.df)\n",
    "\n",
    "    def __getitem__(self, idx) -> tuple:\n",
    "        image = Image.open(self.df.iloc[idx, 0] + '.jpg').convert(\"RGB\")\n",
    "        question = self.df.iloc[idx, 2]\n",
    "        label = self.df.iloc[idx, 1]\n",
    "\n",
    "        if self.img_transform:\n",
    "            image = self.img_transform(image)\n",
    "        encoding = self.text_processor(\n",
    "                                  question,\n",
    "                                  padding=\"max_length\",\n",
    "                                  truncation=True,\n",
    "                                  max_length = self.max_len,\n",
    "                                  return_tensors=\"pt\"\n",
    "                                  )\n",
    "        # Remove batch dimension\n",
    "        input_ids = encoding['input_ids'].squeeze(0)\n",
    "        attention_mask = encoding['attention_mask'].squeeze(0)\n",
    "\n",
    "        return image, input_ids, attention_mask, label"
   ]
  },
  {
   "cell_type": "markdown",
   "metadata": {},
   "source": [
    "## Model Architecture"
   ]
  },
  {
   "cell_type": "code",
   "execution_count": 29,
   "metadata": {},
   "outputs": [],
   "source": [
    "import torch\n",
    "import torch.nn as nn\n",
    "import torchvision.models as models\n",
    "from transformers import BertModel\n",
    "\n",
    "class Attention(nn.Module):\n",
    "    def __init__(self, image_dim, question_dim, hidden_dim):\n",
    "        super(Attention, self).__init__()\n",
    "        self.image_fc = nn.Linear(image_dim, hidden_dim)\n",
    "        self.question_fc = nn.Linear(question_dim, hidden_dim)\n",
    "        self.fc = nn.Linear(hidden_dim, 1)\n",
    "\n",
    "    def forward(self, image_features, question_features):\n",
    "        # Linear transformations\n",
    "        image_proj = self.image_fc(image_features)\n",
    "        question_proj = self.question_fc(question_features).unsqueeze(1)\n",
    "        \n",
    "        # Combine projections\n",
    "        combined_proj = torch.tanh(image_proj + question_proj)\n",
    "        attention_weights = torch.softmax(self.fc(combined_proj), dim=1)\n",
    "        \n",
    "        # Weighted sum of image features\n",
    "        attended_image_features = (attention_weights * image_features).sum(dim=1)\n",
    "        \n",
    "        return attended_image_features, attention_weights\n",
    "\n",
    "class VQAModel(nn.Module):\n",
    "    def __init__(self, num_answers):\n",
    "        super(VQAModel, self).__init__()\n",
    "        # Image feature extractor using VGG-19\n",
    "        vgg = models.vgg19(pretrained=True)\n",
    "        self.vgg_features = vgg.features\n",
    "        self.vgg_classifier = nn.Sequential(*list(vgg.classifier.children())[:-1])\n",
    "        self.vgg_fc = nn.Linear(4096, 512)\n",
    "\n",
    "        # Question feature extractor using BERT\n",
    "        self.bert = BertModel.from_pretrained('bert-base-uncased')\n",
    "        self.bert_fc = nn.Linear(768, 512)\n",
    "\n",
    "        # Attention layers\n",
    "        self.attention1 = Attention(512, 512, 512)\n",
    "        self.attention2 = Attention(512, 512, 512)\n",
    "\n",
    "        # Combined classifier\n",
    "        self.fc1 = nn.Linear(512 + 512, 1024)\n",
    "        self.fc2 = nn.Linear(1024, 512)\n",
    "        self.fc3 = nn.Linear(512, num_answers)\n",
    "\n",
    "        self.dropout = nn.Dropout(0.5)\n",
    "        self.relu = nn.ReLU()\n",
    "\n",
    "    def forward(self, images, input_ids, attention_mask):\n",
    "        # Image features\n",
    "        with torch.no_grad():\n",
    "            img_features = self.vgg_features(images)\n",
    "        img_features = img_features.view(img_features.size(0), -1)\n",
    "        img_features = self.vgg_classifier(img_features)\n",
    "        img_features = self.vgg_fc(img_features)\n",
    "        \n",
    "        # Question features\n",
    "        bert_output = self.bert(input_ids=input_ids, attention_mask=attention_mask)\n",
    "        ques_features = self.bert_fc(bert_output.pooler_output)\n",
    "\n",
    "        # Attention layers\n",
    "        attended_img_features1, _ = self.attention1(img_features, ques_features)\n",
    "        attended_img_features2, _ = self.attention2(attended_img_features1, ques_features)\n",
    "\n",
    "        # Concatenate features\n",
    "        combined_features = torch.cat((attended_img_features2, ques_features), dim=1)\n",
    "\n",
    "        # Classification\n",
    "        x = self.fc1(combined_features)\n",
    "        x = self.relu(x)\n",
    "        x = self.dropout(x)\n",
    "        x = self.fc2(x)\n",
    "        x = self.relu(x)\n",
    "        x = self.dropout(x)\n",
    "        output = self.fc3(x)\n",
    "\n",
    "        return output"
   ]
  },
  {
   "cell_type": "markdown",
   "metadata": {},
   "source": [
    "# Setting-Up The Model For Training"
   ]
  },
  {
   "cell_type": "code",
   "execution_count": 30,
   "metadata": {},
   "outputs": [],
   "source": [
    "from sklearn.metrics import accuracy_score\n",
    "\n",
    "def train_model(model, train_loader, val_loader, criterion, optimizer, num_epochs, scheduler):\n",
    "    for epoch in range(num_epochs):\n",
    "        model.train()  # Set the model to training mode\n",
    "        train_loss = 0.0\n",
    "        train_acc = 0.0\n",
    "        val_loss = 0.0\n",
    "        val_acc = 0.0\n",
    "\n",
    "        # Training\n",
    "        progress_bar = tqdm(train_loader, desc=f'Epoch {epoch + 1}/{num_epochs}-Training', leave=False)\n",
    "        for images, input_ids, attention_mask, labels in progress_bar:\n",
    "            images, input_ids, attention_mask, labels = images.to(device), input_ids.to(device), attention_mask.to(device), labels.to(device)\n",
    "            optimizer.zero_grad()\n",
    "            outputs = model(images, input_ids, attention_mask)\n",
    "            loss = criterion(outputs, labels)\n",
    "            loss.backward()\n",
    "            optimizer.step()\n",
    "            train_loss += loss.item() * images.size(0)\n",
    "            _, preds = torch.max(outputs, 1)\n",
    "            train_acc += accuracy_score(labels.cpu(), preds.cpu())\n",
    "        scheduler.step()\n",
    "        # Validation\n",
    "        model.eval()  # Set the model to evaluation mode\n",
    "        with torch.no_grad():\n",
    "            progress_bar = tqdm(val_loader, desc=f'Epoch {epoch + 1}/{num_epochs}-Validation', leave=False)\n",
    "            for images, input_ids, attention_mask, labels in progress_bar:\n",
    "                images, input_ids, attention_mask, labels = images.to(device), input_ids.to(device), attention_mask.to(device), labels.to(device)\n",
    "                outputs = model(images, input_ids, attention_mask)\n",
    "                loss = criterion(outputs, labels)\n",
    "                val_loss += loss.item() * images.size(0)\n",
    "                _, preds = torch.max(outputs, 1)\n",
    "                val_acc += accuracy_score(labels.cpu(), preds.cpu())\n",
    "\n",
    "        # Calculate average losses and accuracies\n",
    "        train_loss = train_loss / len(train_loader)\n",
    "        train_acc = train_acc / len(train_loader)\n",
    "        val_loss = val_loss / len(val_loader)\n",
    "        val_acc = val_acc / len(val_loader)\n",
    "\n",
    "        print(f'Epoch: {epoch+1}/{num_epochs}.. Training Loss: {train_loss}.. Training Accuracy: {train_acc}.. Validation Loss: {val_loss}.. Validation Accuracy: {val_acc}')"
   ]
  },
  {
   "cell_type": "markdown",
   "metadata": {},
   "source": [
    "# Loading the Dataset"
   ]
  },
  {
   "cell_type": "code",
   "execution_count": 31,
   "metadata": {},
   "outputs": [],
   "source": [
    "batch_size = 64\n",
    "\n",
    "train_dataset = VQADataset(df=train_yes_no, text_processor=text_processor,img_transform=data_transforms['train'])\n",
    "val_dataset = VQADataset(df=val_yes_no, text_processor=text_processor, img_transform=data_transforms['other'])\n",
    "test_dataset = VQADataset(df=test_yes_no, text_processor=text_processor, img_transform=data_transforms['other'])\n",
    "train_loader = DataLoader(train_dataset, batch_size=batch_size, shuffle=True)\n",
    "val_loader = DataLoader(val_dataset, batch_size=batch_size)\n",
    "test_loader = DataLoader(test_dataset, batch_size=batch_size)"
   ]
  },
  {
   "cell_type": "markdown",
   "metadata": {},
   "source": [
    "# Training the Model for Yes No Questions"
   ]
  },
  {
   "cell_type": "code",
   "execution_count": 22,
   "metadata": {},
   "outputs": [
    {
     "name": "stderr",
     "output_type": "stream",
     "text": [
      "c:\\ProgramData\\anaconda3\\envs\\pt\\lib\\site-packages\\torchvision\\models\\_utils.py:208: UserWarning: The parameter 'pretrained' is deprecated since 0.13 and may be removed in the future, please use 'weights' instead.\n",
      "  warnings.warn(\n",
      "c:\\ProgramData\\anaconda3\\envs\\pt\\lib\\site-packages\\torchvision\\models\\_utils.py:223: UserWarning: Arguments other than a weight enum or `None` for 'weights' are deprecated since 0.13 and may be removed in the future. The current behavior is equivalent to passing `weights=VGG19_Weights.IMAGENET1K_V1`. You can also use `weights=VGG19_Weights.DEFAULT` to get the most up-to-date weights.\n",
      "  warnings.warn(msg)\n"
     ]
    },
    {
     "data": {
      "application/vnd.jupyter.widget-view+json": {
       "model_id": "1d045384da98442fae70bd5e2d7f1228",
       "version_major": 2,
       "version_minor": 0
      },
      "text/plain": [
       "Epoch 1/10-Training:   0%|          | 0/154 [00:00<?, ?it/s]"
      ]
     },
     "metadata": {},
     "output_type": "display_data"
    },
    {
     "data": {
      "application/vnd.jupyter.widget-view+json": {
       "model_id": "9e3ef9c72be54026b2d957acbf79f9f3",
       "version_major": 2,
       "version_minor": 0
      },
      "text/plain": [
       "Epoch 1/10-Validation:   0%|          | 0/49 [00:00<?, ?it/s]"
      ]
     },
     "metadata": {},
     "output_type": "display_data"
    },
    {
     "name": "stdout",
     "output_type": "stream",
     "text": [
      "Epoch: 1/10.. Training Loss: 84.8005426735073.. Training Accuracy: 0.6292613636363636.. Validation Loss: 19.546250464964885.. Validation Accuracy: 0.8601615646258504\n"
     ]
    },
    {
     "data": {
      "application/vnd.jupyter.widget-view+json": {
       "model_id": "2a912fe7233342d1994494b3937c9f55",
       "version_major": 2,
       "version_minor": 0
      },
      "text/plain": [
       "Epoch 2/10-Training:   0%|          | 0/154 [00:00<?, ?it/s]"
      ]
     },
     "metadata": {},
     "output_type": "display_data"
    },
    {
     "data": {
      "application/vnd.jupyter.widget-view+json": {
       "model_id": "c1485794b7494f938b376e7d41476c35",
       "version_major": 2,
       "version_minor": 0
      },
      "text/plain": [
       "Epoch 2/10-Validation:   0%|          | 0/49 [00:00<?, ?it/s]"
      ]
     },
     "metadata": {},
     "output_type": "display_data"
    },
    {
     "name": "stdout",
     "output_type": "stream",
     "text": [
      "Epoch: 2/10.. Training Loss: 20.499722833757275.. Training Accuracy: 0.8581574675324676.. Validation Loss: 14.557746608646548.. Validation Accuracy: 0.8908163265306123\n"
     ]
    },
    {
     "data": {
      "application/vnd.jupyter.widget-view+json": {
       "model_id": "0323604459174c8abacfb7d9a5651040",
       "version_major": 2,
       "version_minor": 0
      },
      "text/plain": [
       "Epoch 3/10-Training:   0%|          | 0/154 [00:00<?, ?it/s]"
      ]
     },
     "metadata": {},
     "output_type": "display_data"
    },
    {
     "data": {
      "application/vnd.jupyter.widget-view+json": {
       "model_id": "6d303b5be34a46e59fcd50b5060376c6",
       "version_major": 2,
       "version_minor": 0
      },
      "text/plain": [
       "Epoch 3/10-Validation:   0%|          | 0/49 [00:00<?, ?it/s]"
      ]
     },
     "metadata": {},
     "output_type": "display_data"
    },
    {
     "name": "stdout",
     "output_type": "stream",
     "text": [
      "Epoch: 3/10.. Training Loss: 15.529133991761642.. Training Accuracy: 0.8897118506493507.. Validation Loss: 17.2846101084534.. Validation Accuracy: 0.8946215986394558\n"
     ]
    },
    {
     "data": {
      "application/vnd.jupyter.widget-view+json": {
       "model_id": "3792d2791e5448438bc8c385cc197c21",
       "version_major": 2,
       "version_minor": 0
      },
      "text/plain": [
       "Epoch 4/10-Training:   0%|          | 0/154 [00:00<?, ?it/s]"
      ]
     },
     "metadata": {},
     "output_type": "display_data"
    },
    {
     "data": {
      "application/vnd.jupyter.widget-view+json": {
       "model_id": "7a8a753e25054bf79fca9f867aee2651",
       "version_major": 2,
       "version_minor": 0
      },
      "text/plain": [
       "Epoch 4/10-Validation:   0%|          | 0/49 [00:00<?, ?it/s]"
      ]
     },
     "metadata": {},
     "output_type": "display_data"
    },
    {
     "name": "stdout",
     "output_type": "stream",
     "text": [
      "Epoch: 4/10.. Training Loss: 11.689533660938213.. Training Accuracy: 0.9235998376623377.. Validation Loss: 14.728282703428853.. Validation Accuracy: 0.9038690476190476\n"
     ]
    },
    {
     "data": {
      "application/vnd.jupyter.widget-view+json": {
       "model_id": "a81d58ed061e483b8502d8b5b39a5f10",
       "version_major": 2,
       "version_minor": 0
      },
      "text/plain": [
       "Epoch 5/10-Training:   0%|          | 0/154 [00:00<?, ?it/s]"
      ]
     },
     "metadata": {},
     "output_type": "display_data"
    },
    {
     "data": {
      "application/vnd.jupyter.widget-view+json": {
       "model_id": "42a93bf720594496917d9d0d55d8713a",
       "version_major": 2,
       "version_minor": 0
      },
      "text/plain": [
       "Epoch 5/10-Validation:   0%|          | 0/49 [00:00<?, ?it/s]"
      ]
     },
     "metadata": {},
     "output_type": "display_data"
    },
    {
     "name": "stdout",
     "output_type": "stream",
     "text": [
      "Epoch: 5/10.. Training Loss: 8.90491462450523.. Training Accuracy: 0.9439935064935064.. Validation Loss: 14.302541732788086.. Validation Accuracy: 0.8993409863945578\n"
     ]
    },
    {
     "data": {
      "application/vnd.jupyter.widget-view+json": {
       "model_id": "f6ce6b10fc9b4c49b35d102a62c0f4a5",
       "version_major": 2,
       "version_minor": 0
      },
      "text/plain": [
       "Epoch 6/10-Training:   0%|          | 0/154 [00:00<?, ?it/s]"
      ]
     },
     "metadata": {},
     "output_type": "display_data"
    },
    {
     "data": {
      "application/vnd.jupyter.widget-view+json": {
       "model_id": "ec6aa02e59bf4144be74997340857153",
       "version_major": 2,
       "version_minor": 0
      },
      "text/plain": [
       "Epoch 6/10-Validation:   0%|          | 0/49 [00:00<?, ?it/s]"
      ]
     },
     "metadata": {},
     "output_type": "display_data"
    },
    {
     "name": "stdout",
     "output_type": "stream",
     "text": [
      "Epoch: 6/10.. Training Loss: 5.410027430429087.. Training Accuracy: 0.9708806818181818.. Validation Loss: 16.217617317121857.. Validation Accuracy: 0.9137542517006803\n"
     ]
    },
    {
     "data": {
      "application/vnd.jupyter.widget-view+json": {
       "model_id": "bd9598a8915f4f8bad0e9bd76b6d9466",
       "version_major": 2,
       "version_minor": 0
      },
      "text/plain": [
       "Epoch 7/10-Training:   0%|          | 0/154 [00:00<?, ?it/s]"
      ]
     },
     "metadata": {},
     "output_type": "display_data"
    },
    {
     "data": {
      "application/vnd.jupyter.widget-view+json": {
       "model_id": "4a198b6aced6452e825866b40e65d34d",
       "version_major": 2,
       "version_minor": 0
      },
      "text/plain": [
       "Epoch 7/10-Validation:   0%|          | 0/49 [00:00<?, ?it/s]"
      ]
     },
     "metadata": {},
     "output_type": "display_data"
    },
    {
     "name": "stdout",
     "output_type": "stream",
     "text": [
      "Epoch: 7/10.. Training Loss: 4.3825030864349435.. Training Accuracy: 0.9760551948051948.. Validation Loss: 17.45000726592784.. Validation Accuracy: 0.9134566326530612\n"
     ]
    },
    {
     "data": {
      "application/vnd.jupyter.widget-view+json": {
       "model_id": "b8eff418d966411db8c8ece19a9828aa",
       "version_major": 2,
       "version_minor": 0
      },
      "text/plain": [
       "Epoch 8/10-Training:   0%|          | 0/154 [00:00<?, ?it/s]"
      ]
     },
     "metadata": {},
     "output_type": "display_data"
    },
    {
     "data": {
      "application/vnd.jupyter.widget-view+json": {
       "model_id": "8d1a77b5969746a38c406c56cbbab555",
       "version_major": 2,
       "version_minor": 0
      },
      "text/plain": [
       "Epoch 8/10-Validation:   0%|          | 0/49 [00:00<?, ?it/s]"
      ]
     },
     "metadata": {},
     "output_type": "display_data"
    },
    {
     "name": "stdout",
     "output_type": "stream",
     "text": [
      "Epoch: 8/10.. Training Loss: 3.6119077898465193.. Training Accuracy: 0.981635551948052.. Validation Loss: 19.620667927119197.. Validation Accuracy: 0.9144132653061224\n"
     ]
    },
    {
     "data": {
      "application/vnd.jupyter.widget-view+json": {
       "model_id": "c10f1afd85594494841e8a4aecaaff3d",
       "version_major": 2,
       "version_minor": 0
      },
      "text/plain": [
       "Epoch 9/10-Training:   0%|          | 0/154 [00:00<?, ?it/s]"
      ]
     },
     "metadata": {},
     "output_type": "display_data"
    },
    {
     "data": {
      "application/vnd.jupyter.widget-view+json": {
       "model_id": "8b4971231df148cd93baa442c112dc96",
       "version_major": 2,
       "version_minor": 0
      },
      "text/plain": [
       "Epoch 9/10-Validation:   0%|          | 0/49 [00:00<?, ?it/s]"
      ]
     },
     "metadata": {},
     "output_type": "display_data"
    },
    {
     "name": "stdout",
     "output_type": "stream",
     "text": [
      "Epoch: 9/10.. Training Loss: 3.161537321744027.. Training Accuracy: 0.984476461038961.. Validation Loss: 22.66468249535074.. Validation Accuracy: 0.910905612244898\n"
     ]
    },
    {
     "data": {
      "application/vnd.jupyter.widget-view+json": {
       "model_id": "0ca89a39b2e647309e4f0f6f86187ab5",
       "version_major": 2,
       "version_minor": 0
      },
      "text/plain": [
       "Epoch 10/10-Training:   0%|          | 0/154 [00:00<?, ?it/s]"
      ]
     },
     "metadata": {},
     "output_type": "display_data"
    },
    {
     "data": {
      "application/vnd.jupyter.widget-view+json": {
       "model_id": "cc9167bf592b4ce581ba513edc254745",
       "version_major": 2,
       "version_minor": 0
      },
      "text/plain": [
       "Epoch 10/10-Validation:   0%|          | 0/49 [00:00<?, ?it/s]"
      ]
     },
     "metadata": {},
     "output_type": "display_data"
    },
    {
     "name": "stdout",
     "output_type": "stream",
     "text": [
      "Epoch: 10/10.. Training Loss: 3.0572656326770007.. Training Accuracy: 0.9836647727272727.. Validation Loss: 21.364949990291986.. Validation Accuracy: 0.9160076530612244\n",
      "Model saved successfully.\n"
     ]
    }
   ],
   "source": [
    "# Hyperparameters\n",
    "num_epochs = 10\n",
    "learning_rate = 5e-5\n",
    "\n",
    "# Model, criterion, optimizer   \n",
    "model = VQAModel(num_classes)\n",
    "model = model.to(device)\n",
    "\n",
    "criterion = nn.CrossEntropyLoss()\n",
    "optimizer = torch.optim.AdamW(model.parameters(), lr=learning_rate)\n",
    "scheduler = torch.optim.lr_scheduler.StepLR(optimizer, step_size=5, gamma=0.1)\n",
    "\n",
    "# Training\n",
    "train_model(model, train_loader,val_loader, criterion, optimizer, num_epochs, scheduler)\n",
    "\n",
    "# Save the trained model\n",
    "torch.save(model.state_dict(), 'vqa_model_yes_no.pth')\n",
    "print(\"Model saved successfully.\")"
   ]
  },
  {
   "cell_type": "markdown",
   "metadata": {},
   "source": [
    "# Calculating Test Accuracy of Yes No Model"
   ]
  },
  {
   "cell_type": "code",
   "execution_count": 34,
   "metadata": {},
   "outputs": [
    {
     "name": "stderr",
     "output_type": "stream",
     "text": [
      "c:\\ProgramData\\anaconda3\\envs\\pt\\lib\\site-packages\\torchvision\\models\\_utils.py:208: UserWarning: The parameter 'pretrained' is deprecated since 0.13 and may be removed in the future, please use 'weights' instead.\n",
      "  warnings.warn(\n",
      "c:\\ProgramData\\anaconda3\\envs\\pt\\lib\\site-packages\\torchvision\\models\\_utils.py:223: UserWarning: Arguments other than a weight enum or `None` for 'weights' are deprecated since 0.13 and may be removed in the future. The current behavior is equivalent to passing `weights=VGG19_Weights.IMAGENET1K_V1`. You can also use `weights=VGG19_Weights.DEFAULT` to get the most up-to-date weights.\n",
      "  warnings.warn(msg)\n"
     ]
    },
    {
     "name": "stdout",
     "output_type": "stream",
     "text": [
      "Test Loss: 21.668934709058618.. Test Accuracy: 0.9156558849955077\n"
     ]
    }
   ],
   "source": [
    "# Load the trained model\n",
    "model = VQAModel(num_classes)\n",
    "model.load_state_dict(torch.load('vqa_model_yes_no.pth'))\n",
    "model = model.to(device)\n",
    "\n",
    "criterion = nn.CrossEntropyLoss()\n",
    "\n",
    "# Test the trained model on test_yes_no\n",
    "model.eval()\n",
    "test_acc = 0.0\n",
    "test_loss = 0.0\n",
    "with torch.no_grad():\n",
    "    for images, input_ids, attention_mask, labels in test_loader:\n",
    "        images, input_ids, attention_mask, labels = images.to(device), input_ids.to(device), attention_mask.to(device), labels.to(device)\n",
    "        outputs = model(images, input_ids, attention_mask)\n",
    "        loss = criterion(outputs, labels)\n",
    "        test_loss += loss.item() * images.size(0)\n",
    "        _, preds = torch.max(outputs, 1)\n",
    "        test_acc += accuracy_score(labels.cpu(), preds.cpu())\n",
    "\n",
    "test_loss = test_loss / len(test_loader)\n",
    "test_acc = test_acc / len(test_loader)\n",
    "print(f'Test Loss: {test_loss}.. Test Accuracy: {test_acc}')"
   ]
  },
  {
   "cell_type": "markdown",
   "metadata": {},
   "source": [
    "# Graphs"
   ]
  },
  {
   "cell_type": "code",
   "execution_count": 35,
   "metadata": {},
   "outputs": [],
   "source": [
    "#Generate Graphs for the training and validation loss\n",
    "import matplotlib.pyplot as plt\n",
    "\n",
    "def plot_graphs(train_losses, val_losses, train_accuracies, val_accuracies):\n",
    "    plt.figure(figsize=(10, 5))\n",
    "    plt.subplot(1, 2, 1)\n",
    "    plt.plot(train_losses, label='Training Loss')\n",
    "    plt.plot(val_losses, label='Validation Loss')\n",
    "    plt.title('Loss of Yes/No Model')\n",
    "    plt.legend()\n",
    "\n",
    "    plt.subplot(1, 2, 2)\n",
    "    plt.plot(train_accuracies, label='Training Accuracy')\n",
    "    plt.plot(val_accuracies, label='Validation Accuracy')\n",
    "    plt.title('Accuracy of Yes/No Model')\n",
    "    plt.legend()\n",
    "\n",
    "    plt.show()"
   ]
  },
  {
   "cell_type": "code",
   "execution_count": 36,
   "metadata": {},
   "outputs": [
    {
     "data": {
      "image/png": "[encoded data removed]",
      "text/plain": [
       "<Figure size 1000x500 with 2 Axes>"
      ]
     },
     "metadata": {},
     "output_type": "display_data"
    }
   ],
   "source": [
    "train_acc = [0.6292613636363636, 0.8581574675324676, 0.8897118506493507, 0.9235998376623377, 0.9439935064935064, 0.9708806818181818, 0.9760551948051948, 0.981635551948052, 0.984476461038961, 0.9836647727272727]\n",
    "val_acc = [0.8601615646258504, 0.8908163265306123, 0.8946215986394558, 0.9038690476190476, 0.8993409863945578, 0.9137542517006803, 0.9134566326530612, 0.9144132653061224, 0.910905612244898, 0.9160076530612244]\n",
    "train_loss = [84.8005426735073, 20.499722833757275, 15.529133991761642, 11.689533660938213, 8.90491462450523, 5.410027430429087, 4.3825030864349435, 3.6119077898465193, 3.161537321744027, 3.0572656326770007]\n",
    "val_loss = [19.546250464964885, 14.557746608646548, 17.2846101084534, 14.728282703428853, 14.302541732788086, 16.217617317121857, 17.45000726592784, 19.620667927119197, 22.66468249535074, 21.364949990291986]\n",
    "\n",
    "plot_graphs(train_loss, val_loss, train_acc, val_acc)"
   ]
  }
 ],
 "metadata": {
  "kernelspec": {
   "display_name": "pt",
   "language": "python",
   "name": "pt"
  },
  "language_info": {
   "codemirror_mode": {
    "name": "ipython",
    "version": 3
   },
   "file_extension": ".py",
   "mimetype": "text/x-python",
   "name": "python",
   "nbconvert_exporter": "python",
   "pygments_lexer": "ipython3",
   "version": "3.9.18"
  }
 },
 "nbformat": 4,
 "nbformat_minor": 2
}
